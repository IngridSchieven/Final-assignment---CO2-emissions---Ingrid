{
  "nbformat": 4,
  "nbformat_minor": 0,
  "metadata": {
    "colab": {
      "name": "FA_Q1_CO2_Biggest_predictor_large_CO2output_0722Ingrid1.ipynb",
      "provenance": [],
      "authorship_tag": "ABX9TyNF9L9HBVJ3otseXXQvbDyC",
      "include_colab_link": true
    },
    "kernelspec": {
      "name": "python3",
      "display_name": "Python 3"
    },
    "language_info": {
      "name": "python"
    }
  },
  "cells": [
    {
      "cell_type": "markdown",
      "metadata": {
        "id": "view-in-github",
        "colab_type": "text"
      },
      "source": [
        "<a href=\"https://colab.research.google.com/github/IngridSchieven/Final-assignment---CO2-emissions---Ingrid/blob/main/FA_Q1_CO2_Biggest_predictor_large_CO2output_0722Ingrid1.ipynb\" target=\"_parent\"><img src=\"https://colab.research.google.com/assets/colab-badge.svg\" alt=\"Open In Colab\"/></a>"
      ]
    },
    {
      "cell_type": "code",
      "execution_count": null,
      "metadata": {
        "id": "U7RgJInZCW7-"
      },
      "outputs": [],
      "source": [
        "# Final Assignment\n",
        "# Q1 What is the biggest predictor of a large CO2 output per capita of a country?\n",
        "\n",
        "# 1: Biggest predictor of CO2 output\n",
        "# To determine this you may want to consider things like \n",
        "# GDP per capita, diets, number of cars per capita, various energy source, mobility and other factors.\n",
        "\n",
        "# Your answer can also be a specific combination of certain factors."
      ]
    },
    {
      "cell_type": "code",
      "source": [
        "# Stap 1: Onderzoeksvraag begrijpen en indien nodig aanvullend info zoeken\n",
        "\n",
        "# Zoek de grootste veroorzaker van CO2 uitstoot. \n",
        "# Welke data heeft de meeste correlatie met de CO2 uitstoot per hoofd van de bevolking per land"
      ],
      "metadata": {
        "id": "j2kKrE6aDnUJ"
      },
      "execution_count": null,
      "outputs": []
    },
    {
      "cell_type": "code",
      "source": [
        "# Stap 2: Relevante dataset(s) zoeken!\n",
        "\n",
        "# De Kaya index geeft veel relevante info en houdt al rekening met de GDP en de veranderingen in populatie\n",
        "url = 'https://ourworldindata.org/grapher/kaya-identity-co2?time=1960..latest'\n",
        "\n",
        "# Onderstaande datasets geeft misschien ook nog relevante info, maar even bewaren.\n",
        "url2 = 'https://ourworldindata.org/grapher/road-vehicles-per-1000-inhabitants-vs-gdp-per-capita' #motor vehicles per 1000\n",
        "url3 = 'https://ourworldindata.org/grapher/co-emissions-per-capita?tab=chart&stackMode=relative&time=1992..2020' #CO2 emissions per capita %\n",
        "url4 = 'https://ourworldindata.org/co2-and-other-greenhouse-gas-emissions' #CO2 \n",
        "url5 = 'https://ourworldindata.org/grapher/co2-emissions-and-gdp?time=2008..2020&country=~OWID_WRL' #CO2 versus GDP\n"
      ],
      "metadata": {
        "id": "e_kBhbdYExLK"
      },
      "execution_count": null,
      "outputs": []
    },
    {
      "cell_type": "code",
      "source": [
        "import numpy as np\n",
        "import pandas as pd\n",
        "import matplotlib.pyplot as plt\n",
        "%load_ext google.colab.data_table\n",
        "%precision 2"
      ],
      "metadata": {
        "id": "ytjMmHvUPowz",
        "colab": {
          "base_uri": "https://localhost:8080/",
          "height": 35
        },
        "outputId": "e19b930b-ae85-4447-f147-734302b51b81"
      },
      "execution_count": null,
      "outputs": [
        {
          "output_type": "execute_result",
          "data": {
            "text/plain": [
              "'%.2f'"
            ],
            "application/vnd.google.colaboratory.intrinsic+json": {
              "type": "string"
            }
          },
          "metadata": {},
          "execution_count": 1
        }
      ]
    },
    {
      "cell_type": "code",
      "source": [
        "# Stap 3: Dataset onderzoeken\n",
        "# Geeft de Kaya index antwoorden op de onderzoeksvraag? Ja!\n",
        "# GDP en Populatie correlatie met CO2 onderzoeken/vergelijken"
      ],
      "metadata": {
        "id": "JMh-Nju2P4ne"
      },
      "execution_count": null,
      "outputs": []
    },
    {
      "cell_type": "code",
      "source": [
        "#import and explore dataset\n",
        "df = pd.read_csv('/content/kaya-identity-co2.csv')\n",
        "#explore df\n",
        "df.info()"
      ],
      "metadata": {
        "id": "ZBfZiQw2LAft"
      },
      "execution_count": null,
      "outputs": []
    },
    {
      "cell_type": "code",
      "source": [
        "df.head(5)"
      ],
      "metadata": {
        "colab": {
          "base_uri": "https://localhost:8080/",
          "height": 213
        },
        "id": "TmtdyRQFm1c0",
        "outputId": "ee810ee1-bb7f-4dc1-a545-95ffbf913417"
      },
      "execution_count": null,
      "outputs": [
        {
          "output_type": "execute_result",
          "data": {
            "text/plain": [
              "        Entity Code    Year  Annual CO2 emissions  \\\n",
              "0  Afghanistan  AFG  1965.0             1006917.0   \n",
              "1  Afghanistan  AFG  1966.0             1091159.0   \n",
              "2  Afghanistan  AFG  1967.0             1281865.0   \n",
              "3  Afghanistan  AFG  1968.0             1223391.0   \n",
              "4  Afghanistan  AFG  1969.0              941232.0   \n",
              "\n",
              "   Annual CO2 emissions per unit energy (kg per kilowatt-hour)  \\\n",
              "0                                                NaN             \n",
              "1                                                NaN             \n",
              "2                                                NaN             \n",
              "3                                                NaN             \n",
              "4                                                NaN             \n",
              "\n",
              "   Annual CO2 emissions per GDP (kg per $PPP)  Energy per GDP (kWh per $)  \\\n",
              "0                                      0.0710                         NaN   \n",
              "1                                      0.0762                         NaN   \n",
              "2                                      0.0870                         NaN   \n",
              "3                                      0.0802                         NaN   \n",
              "4                                      0.0608                         NaN   \n",
              "\n",
              "   GDP per capita  417485-annotations  Population (historical estimates)  \n",
              "0          1290.0                 NaN                          9956318.0  \n",
              "1          1272.0                 NaN                         10174840.0  \n",
              "2          1277.0                 NaN                         10399936.0  \n",
              "3          1290.0                 NaN                         10637064.0  \n",
              "4          1278.0                 NaN                         10893772.0  "
            ],
            "text/html": [
              "\n",
              "  <div id=\"df-ed00cee6-c65e-4000-afa7-e7430d6a7c64\">\n",
              "    <div class=\"colab-df-container\">\n",
              "      <div>\n",
              "<style scoped>\n",
              "    .dataframe tbody tr th:only-of-type {\n",
              "        vertical-align: middle;\n",
              "    }\n",
              "\n",
              "    .dataframe tbody tr th {\n",
              "        vertical-align: top;\n",
              "    }\n",
              "\n",
              "    .dataframe thead th {\n",
              "        text-align: right;\n",
              "    }\n",
              "</style>\n",
              "<table border=\"1\" class=\"dataframe\">\n",
              "  <thead>\n",
              "    <tr style=\"text-align: right;\">\n",
              "      <th></th>\n",
              "      <th>Entity</th>\n",
              "      <th>Code</th>\n",
              "      <th>Year</th>\n",
              "      <th>Annual CO2 emissions</th>\n",
              "      <th>Annual CO2 emissions per unit energy (kg per kilowatt-hour)</th>\n",
              "      <th>Annual CO2 emissions per GDP (kg per $PPP)</th>\n",
              "      <th>Energy per GDP (kWh per $)</th>\n",
              "      <th>GDP per capita</th>\n",
              "      <th>417485-annotations</th>\n",
              "      <th>Population (historical estimates)</th>\n",
              "    </tr>\n",
              "  </thead>\n",
              "  <tbody>\n",
              "    <tr>\n",
              "      <th>0</th>\n",
              "      <td>Afghanistan</td>\n",
              "      <td>AFG</td>\n",
              "      <td>1965.0</td>\n",
              "      <td>1006917.0</td>\n",
              "      <td>NaN</td>\n",
              "      <td>0.0710</td>\n",
              "      <td>NaN</td>\n",
              "      <td>1290.0</td>\n",
              "      <td>NaN</td>\n",
              "      <td>9956318.0</td>\n",
              "    </tr>\n",
              "    <tr>\n",
              "      <th>1</th>\n",
              "      <td>Afghanistan</td>\n",
              "      <td>AFG</td>\n",
              "      <td>1966.0</td>\n",
              "      <td>1091159.0</td>\n",
              "      <td>NaN</td>\n",
              "      <td>0.0762</td>\n",
              "      <td>NaN</td>\n",
              "      <td>1272.0</td>\n",
              "      <td>NaN</td>\n",
              "      <td>10174840.0</td>\n",
              "    </tr>\n",
              "    <tr>\n",
              "      <th>2</th>\n",
              "      <td>Afghanistan</td>\n",
              "      <td>AFG</td>\n",
              "      <td>1967.0</td>\n",
              "      <td>1281865.0</td>\n",
              "      <td>NaN</td>\n",
              "      <td>0.0870</td>\n",
              "      <td>NaN</td>\n",
              "      <td>1277.0</td>\n",
              "      <td>NaN</td>\n",
              "      <td>10399936.0</td>\n",
              "    </tr>\n",
              "    <tr>\n",
              "      <th>3</th>\n",
              "      <td>Afghanistan</td>\n",
              "      <td>AFG</td>\n",
              "      <td>1968.0</td>\n",
              "      <td>1223391.0</td>\n",
              "      <td>NaN</td>\n",
              "      <td>0.0802</td>\n",
              "      <td>NaN</td>\n",
              "      <td>1290.0</td>\n",
              "      <td>NaN</td>\n",
              "      <td>10637064.0</td>\n",
              "    </tr>\n",
              "    <tr>\n",
              "      <th>4</th>\n",
              "      <td>Afghanistan</td>\n",
              "      <td>AFG</td>\n",
              "      <td>1969.0</td>\n",
              "      <td>941232.0</td>\n",
              "      <td>NaN</td>\n",
              "      <td>0.0608</td>\n",
              "      <td>NaN</td>\n",
              "      <td>1278.0</td>\n",
              "      <td>NaN</td>\n",
              "      <td>10893772.0</td>\n",
              "    </tr>\n",
              "  </tbody>\n",
              "</table>\n",
              "</div>\n",
              "      <button class=\"colab-df-convert\" onclick=\"convertToInteractive('df-ed00cee6-c65e-4000-afa7-e7430d6a7c64')\"\n",
              "              title=\"Convert this dataframe to an interactive table.\"\n",
              "              style=\"display:none;\">\n",
              "        \n",
              "  <svg xmlns=\"http://www.w3.org/2000/svg\" height=\"24px\"viewBox=\"0 0 24 24\"\n",
              "       width=\"24px\">\n",
              "    <path d=\"M0 0h24v24H0V0z\" fill=\"none\"/>\n",
              "    <path d=\"M18.56 5.44l.94 2.06.94-2.06 2.06-.94-2.06-.94-.94-2.06-.94 2.06-2.06.94zm-11 1L8.5 8.5l.94-2.06 2.06-.94-2.06-.94L8.5 2.5l-.94 2.06-2.06.94zm10 10l.94 2.06.94-2.06 2.06-.94-2.06-.94-.94-2.06-.94 2.06-2.06.94z\"/><path d=\"M17.41 7.96l-1.37-1.37c-.4-.4-.92-.59-1.43-.59-.52 0-1.04.2-1.43.59L10.3 9.45l-7.72 7.72c-.78.78-.78 2.05 0 2.83L4 21.41c.39.39.9.59 1.41.59.51 0 1.02-.2 1.41-.59l7.78-7.78 2.81-2.81c.8-.78.8-2.07 0-2.86zM5.41 20L4 18.59l7.72-7.72 1.47 1.35L5.41 20z\"/>\n",
              "  </svg>\n",
              "      </button>\n",
              "      \n",
              "  <style>\n",
              "    .colab-df-container {\n",
              "      display:flex;\n",
              "      flex-wrap:wrap;\n",
              "      gap: 12px;\n",
              "    }\n",
              "\n",
              "    .colab-df-convert {\n",
              "      background-color: #E8F0FE;\n",
              "      border: none;\n",
              "      border-radius: 50%;\n",
              "      cursor: pointer;\n",
              "      display: none;\n",
              "      fill: #1967D2;\n",
              "      height: 32px;\n",
              "      padding: 0 0 0 0;\n",
              "      width: 32px;\n",
              "    }\n",
              "\n",
              "    .colab-df-convert:hover {\n",
              "      background-color: #E2EBFA;\n",
              "      box-shadow: 0px 1px 2px rgba(60, 64, 67, 0.3), 0px 1px 3px 1px rgba(60, 64, 67, 0.15);\n",
              "      fill: #174EA6;\n",
              "    }\n",
              "\n",
              "    [theme=dark] .colab-df-convert {\n",
              "      background-color: #3B4455;\n",
              "      fill: #D2E3FC;\n",
              "    }\n",
              "\n",
              "    [theme=dark] .colab-df-convert:hover {\n",
              "      background-color: #434B5C;\n",
              "      box-shadow: 0px 1px 3px 1px rgba(0, 0, 0, 0.15);\n",
              "      filter: drop-shadow(0px 1px 2px rgba(0, 0, 0, 0.3));\n",
              "      fill: #FFFFFF;\n",
              "    }\n",
              "  </style>\n",
              "\n",
              "      <script>\n",
              "        const buttonEl =\n",
              "          document.querySelector('#df-ed00cee6-c65e-4000-afa7-e7430d6a7c64 button.colab-df-convert');\n",
              "        buttonEl.style.display =\n",
              "          google.colab.kernel.accessAllowed ? 'block' : 'none';\n",
              "\n",
              "        async function convertToInteractive(key) {\n",
              "          const element = document.querySelector('#df-ed00cee6-c65e-4000-afa7-e7430d6a7c64');\n",
              "          const dataTable =\n",
              "            await google.colab.kernel.invokeFunction('convertToInteractive',\n",
              "                                                     [key], {});\n",
              "          if (!dataTable) return;\n",
              "\n",
              "          const docLinkHtml = 'Like what you see? Visit the ' +\n",
              "            '<a target=\"_blank\" href=https://colab.research.google.com/notebooks/data_table.ipynb>data table notebook</a>'\n",
              "            + ' to learn more about interactive tables.';\n",
              "          element.innerHTML = '';\n",
              "          dataTable['output_type'] = 'display_data';\n",
              "          await google.colab.output.renderOutput(dataTable, element);\n",
              "          const docLink = document.createElement('div');\n",
              "          docLink.innerHTML = docLinkHtml;\n",
              "          element.appendChild(docLink);\n",
              "        }\n",
              "      </script>\n",
              "    </div>\n",
              "  </div>\n",
              "  "
            ],
            "application/vnd.google.colaboratory.module+javascript": "\n      import \"https://ssl.gstatic.com/colaboratory/data_table/f872b2c2305463fd/data_table.js\";\n\n      window.createDataTable({\n        data: [[{\n            'v': 0,\n            'f': \"0\",\n        },\n\"Afghanistan\",\n\"AFG\",\n{\n            'v': 1965.0,\n            'f': \"1965.0\",\n        },\n{\n            'v': 1006917.0,\n            'f': \"1006917.0\",\n        },\n{\n            'v': NaN,\n            'f': \"NaN\",\n        },\n{\n            'v': 0.071,\n            'f': \"0.071\",\n        },\n{\n            'v': NaN,\n            'f': \"NaN\",\n        },\n{\n            'v': 1290.0,\n            'f': \"1290.0\",\n        },\n{\n            'v': NaN,\n            'f': \"NaN\",\n        },\n{\n            'v': 9956318.0,\n            'f': \"9956318.0\",\n        }],\n [{\n            'v': 1,\n            'f': \"1\",\n        },\n\"Afghanistan\",\n\"AFG\",\n{\n            'v': 1966.0,\n            'f': \"1966.0\",\n        },\n{\n            'v': 1091159.0,\n            'f': \"1091159.0\",\n        },\n{\n            'v': NaN,\n            'f': \"NaN\",\n        },\n{\n            'v': 0.0762,\n            'f': \"0.0762\",\n        },\n{\n            'v': NaN,\n            'f': \"NaN\",\n        },\n{\n            'v': 1272.0,\n            'f': \"1272.0\",\n        },\n{\n            'v': NaN,\n            'f': \"NaN\",\n        },\n{\n            'v': 10174840.0,\n            'f': \"10174840.0\",\n        }],\n [{\n            'v': 2,\n            'f': \"2\",\n        },\n\"Afghanistan\",\n\"AFG\",\n{\n            'v': 1967.0,\n            'f': \"1967.0\",\n        },\n{\n            'v': 1281865.0,\n            'f': \"1281865.0\",\n        },\n{\n            'v': NaN,\n            'f': \"NaN\",\n        },\n{\n            'v': 0.087,\n            'f': \"0.087\",\n        },\n{\n            'v': NaN,\n            'f': \"NaN\",\n        },\n{\n            'v': 1277.0,\n            'f': \"1277.0\",\n        },\n{\n            'v': NaN,\n            'f': \"NaN\",\n        },\n{\n            'v': 10399936.0,\n            'f': \"10399936.0\",\n        }],\n [{\n            'v': 3,\n            'f': \"3\",\n        },\n\"Afghanistan\",\n\"AFG\",\n{\n            'v': 1968.0,\n            'f': \"1968.0\",\n        },\n{\n            'v': 1223391.0,\n            'f': \"1223391.0\",\n        },\n{\n            'v': NaN,\n            'f': \"NaN\",\n        },\n{\n            'v': 0.0802,\n            'f': \"0.0802\",\n        },\n{\n            'v': NaN,\n            'f': \"NaN\",\n        },\n{\n            'v': 1290.0,\n            'f': \"1290.0\",\n        },\n{\n            'v': NaN,\n            'f': \"NaN\",\n        },\n{\n            'v': 10637064.0,\n            'f': \"10637064.0\",\n        }],\n [{\n            'v': 4,\n            'f': \"4\",\n        },\n\"Afghanistan\",\n\"AFG\",\n{\n            'v': 1969.0,\n            'f': \"1969.0\",\n        },\n{\n            'v': 941232.0,\n            'f': \"941232.0\",\n        },\n{\n            'v': NaN,\n            'f': \"NaN\",\n        },\n{\n            'v': 0.0608,\n            'f': \"0.0608\",\n        },\n{\n            'v': NaN,\n            'f': \"NaN\",\n        },\n{\n            'v': 1278.0,\n            'f': \"1278.0\",\n        },\n{\n            'v': NaN,\n            'f': \"NaN\",\n        },\n{\n            'v': 10893772.0,\n            'f': \"10893772.0\",\n        }]],\n        columns: [[\"number\", \"index\"], [\"string\", \"Entity\"], [\"string\", \"Code\"], [\"number\", \"Year\"], [\"number\", \"Annual CO2 emissions\"], [\"number\", \"Annual CO2 emissions per unit energy (kg per kilowatt-hour)\"], [\"number\", \"Annual CO2 emissions per GDP (kg per $PPP)\"], [\"number\", \"Energy per GDP (kWh per $)\"], [\"number\", \"GDP per capita\"], [\"number\", \"417485-annotations\"], [\"number\", \"Population (historical estimates)\"]],\n        columnOptions: [{\"width\": \"1px\", \"className\": \"index_column\"}],\n        rowsPerPage: 25,\n        helpUrl: \"https://colab.research.google.com/notebooks/data_table.ipynb\",\n        suppressOutputScrolling: true,\n        minimumWidth: undefined,\n      });\n    "
          },
          "metadata": {},
          "execution_count": 126
        }
      ]
    },
    {
      "cell_type": "code",
      "source": [
        "#cleanup dataset\n",
        "# Quick overview of missing data:\n",
        "for column in df.columns:\n",
        "    aantal_missing = np.sum(df[column].isnull())\n",
        "    print('{} - {}'.format(column, aantal_missing))"
      ],
      "metadata": {
        "id": "9Fl99TXnLsiv"
      },
      "execution_count": null,
      "outputs": []
    },
    {
      "cell_type": "code",
      "source": [
        "#cleanup dataset\n",
        "#drop columns\n",
        "df1 = df.drop(columns=['417485-annotations', 'Code', 'Annual CO2 emissions per unit energy (kg per kilowatt-hour)',\n",
        "       'Annual CO2 emissions per GDP (kg per $PPP)',\n",
        "       'Energy per GDP (kWh per $)'])\n",
        "#rename column\n",
        "df2 = df1.rename(columns= {'Population (historical estimates)': 'Population', })"
      ],
      "metadata": {
        "id": "3EmIAcX3nmnX"
      },
      "execution_count": null,
      "outputs": []
    },
    {
      "cell_type": "code",
      "source": [
        "df2.sample(5)"
      ],
      "metadata": {
        "id": "T8L6k44vo6dY"
      },
      "execution_count": null,
      "outputs": []
    },
    {
      "cell_type": "code",
      "source": [
        "#drop missing numbers\n",
        "df3 = df2.dropna()\n",
        "df3.sample(5)"
      ],
      "metadata": {
        "colab": {
          "base_uri": "https://localhost:8080/",
          "height": 196
        },
        "id": "YfzcrcIMbZ-g",
        "outputId": "7fa3788b-31e8-4ab5-e3cd-c265494f53cf"
      },
      "execution_count": null,
      "outputs": [
        {
          "output_type": "execute_result",
          "data": {
            "text/plain": [
              "        Entity    Year  Annual CO2 emissions  GDP per capita  Population\n",
              "2493      Chad  1987.0              197856.0      663.000000   5412844.0\n",
              "2138  Cambodia  1974.0               47632.0     1049.000000   7533332.0\n",
              "8526   Moldova  1989.0            38695150.0    10288.000000   4347870.0\n",
              "2745  Colombia  1997.0            64496528.0     8952.472656  37723803.0\n",
              "617    Armenia  1991.0             7288292.0     8141.670898   3505249.0"
            ],
            "text/html": [
              "\n",
              "  <div id=\"df-94670874-d521-40c2-bb2c-75e8d156c0f6\">\n",
              "    <div class=\"colab-df-container\">\n",
              "      <div>\n",
              "<style scoped>\n",
              "    .dataframe tbody tr th:only-of-type {\n",
              "        vertical-align: middle;\n",
              "    }\n",
              "\n",
              "    .dataframe tbody tr th {\n",
              "        vertical-align: top;\n",
              "    }\n",
              "\n",
              "    .dataframe thead th {\n",
              "        text-align: right;\n",
              "    }\n",
              "</style>\n",
              "<table border=\"1\" class=\"dataframe\">\n",
              "  <thead>\n",
              "    <tr style=\"text-align: right;\">\n",
              "      <th></th>\n",
              "      <th>Entity</th>\n",
              "      <th>Year</th>\n",
              "      <th>Annual CO2 emissions</th>\n",
              "      <th>GDP per capita</th>\n",
              "      <th>Population</th>\n",
              "    </tr>\n",
              "  </thead>\n",
              "  <tbody>\n",
              "    <tr>\n",
              "      <th>2493</th>\n",
              "      <td>Chad</td>\n",
              "      <td>1987.0</td>\n",
              "      <td>197856.0</td>\n",
              "      <td>663.000000</td>\n",
              "      <td>5412844.0</td>\n",
              "    </tr>\n",
              "    <tr>\n",
              "      <th>2138</th>\n",
              "      <td>Cambodia</td>\n",
              "      <td>1974.0</td>\n",
              "      <td>47632.0</td>\n",
              "      <td>1049.000000</td>\n",
              "      <td>7533332.0</td>\n",
              "    </tr>\n",
              "    <tr>\n",
              "      <th>8526</th>\n",
              "      <td>Moldova</td>\n",
              "      <td>1989.0</td>\n",
              "      <td>38695150.0</td>\n",
              "      <td>10288.000000</td>\n",
              "      <td>4347870.0</td>\n",
              "    </tr>\n",
              "    <tr>\n",
              "      <th>2745</th>\n",
              "      <td>Colombia</td>\n",
              "      <td>1997.0</td>\n",
              "      <td>64496528.0</td>\n",
              "      <td>8952.472656</td>\n",
              "      <td>37723803.0</td>\n",
              "    </tr>\n",
              "    <tr>\n",
              "      <th>617</th>\n",
              "      <td>Armenia</td>\n",
              "      <td>1991.0</td>\n",
              "      <td>7288292.0</td>\n",
              "      <td>8141.670898</td>\n",
              "      <td>3505249.0</td>\n",
              "    </tr>\n",
              "  </tbody>\n",
              "</table>\n",
              "</div>\n",
              "      <button class=\"colab-df-convert\" onclick=\"convertToInteractive('df-94670874-d521-40c2-bb2c-75e8d156c0f6')\"\n",
              "              title=\"Convert this dataframe to an interactive table.\"\n",
              "              style=\"display:none;\">\n",
              "        \n",
              "  <svg xmlns=\"http://www.w3.org/2000/svg\" height=\"24px\"viewBox=\"0 0 24 24\"\n",
              "       width=\"24px\">\n",
              "    <path d=\"M0 0h24v24H0V0z\" fill=\"none\"/>\n",
              "    <path d=\"M18.56 5.44l.94 2.06.94-2.06 2.06-.94-2.06-.94-.94-2.06-.94 2.06-2.06.94zm-11 1L8.5 8.5l.94-2.06 2.06-.94-2.06-.94L8.5 2.5l-.94 2.06-2.06.94zm10 10l.94 2.06.94-2.06 2.06-.94-2.06-.94-.94-2.06-.94 2.06-2.06.94z\"/><path d=\"M17.41 7.96l-1.37-1.37c-.4-.4-.92-.59-1.43-.59-.52 0-1.04.2-1.43.59L10.3 9.45l-7.72 7.72c-.78.78-.78 2.05 0 2.83L4 21.41c.39.39.9.59 1.41.59.51 0 1.02-.2 1.41-.59l7.78-7.78 2.81-2.81c.8-.78.8-2.07 0-2.86zM5.41 20L4 18.59l7.72-7.72 1.47 1.35L5.41 20z\"/>\n",
              "  </svg>\n",
              "      </button>\n",
              "      \n",
              "  <style>\n",
              "    .colab-df-container {\n",
              "      display:flex;\n",
              "      flex-wrap:wrap;\n",
              "      gap: 12px;\n",
              "    }\n",
              "\n",
              "    .colab-df-convert {\n",
              "      background-color: #E8F0FE;\n",
              "      border: none;\n",
              "      border-radius: 50%;\n",
              "      cursor: pointer;\n",
              "      display: none;\n",
              "      fill: #1967D2;\n",
              "      height: 32px;\n",
              "      padding: 0 0 0 0;\n",
              "      width: 32px;\n",
              "    }\n",
              "\n",
              "    .colab-df-convert:hover {\n",
              "      background-color: #E2EBFA;\n",
              "      box-shadow: 0px 1px 2px rgba(60, 64, 67, 0.3), 0px 1px 3px 1px rgba(60, 64, 67, 0.15);\n",
              "      fill: #174EA6;\n",
              "    }\n",
              "\n",
              "    [theme=dark] .colab-df-convert {\n",
              "      background-color: #3B4455;\n",
              "      fill: #D2E3FC;\n",
              "    }\n",
              "\n",
              "    [theme=dark] .colab-df-convert:hover {\n",
              "      background-color: #434B5C;\n",
              "      box-shadow: 0px 1px 3px 1px rgba(0, 0, 0, 0.15);\n",
              "      filter: drop-shadow(0px 1px 2px rgba(0, 0, 0, 0.3));\n",
              "      fill: #FFFFFF;\n",
              "    }\n",
              "  </style>\n",
              "\n",
              "      <script>\n",
              "        const buttonEl =\n",
              "          document.querySelector('#df-94670874-d521-40c2-bb2c-75e8d156c0f6 button.colab-df-convert');\n",
              "        buttonEl.style.display =\n",
              "          google.colab.kernel.accessAllowed ? 'block' : 'none';\n",
              "\n",
              "        async function convertToInteractive(key) {\n",
              "          const element = document.querySelector('#df-94670874-d521-40c2-bb2c-75e8d156c0f6');\n",
              "          const dataTable =\n",
              "            await google.colab.kernel.invokeFunction('convertToInteractive',\n",
              "                                                     [key], {});\n",
              "          if (!dataTable) return;\n",
              "\n",
              "          const docLinkHtml = 'Like what you see? Visit the ' +\n",
              "            '<a target=\"_blank\" href=https://colab.research.google.com/notebooks/data_table.ipynb>data table notebook</a>'\n",
              "            + ' to learn more about interactive tables.';\n",
              "          element.innerHTML = '';\n",
              "          dataTable['output_type'] = 'display_data';\n",
              "          await google.colab.output.renderOutput(dataTable, element);\n",
              "          const docLink = document.createElement('div');\n",
              "          docLink.innerHTML = docLinkHtml;\n",
              "          element.appendChild(docLink);\n",
              "        }\n",
              "      </script>\n",
              "    </div>\n",
              "  </div>\n",
              "  "
            ],
            "application/vnd.google.colaboratory.module+javascript": "\n      import \"https://ssl.gstatic.com/colaboratory/data_table/f872b2c2305463fd/data_table.js\";\n\n      window.createDataTable({\n        data: [[{\n            'v': 2493,\n            'f': \"2493\",\n        },\n\"Chad\",\n{\n            'v': 1987.0,\n            'f': \"1987.0\",\n        },\n{\n            'v': 197856.0,\n            'f': \"197856.0\",\n        },\n{\n            'v': 663.0,\n            'f': \"663.0\",\n        },\n{\n            'v': 5412844.0,\n            'f': \"5412844.0\",\n        }],\n [{\n            'v': 2138,\n            'f': \"2138\",\n        },\n\"Cambodia\",\n{\n            'v': 1974.0,\n            'f': \"1974.0\",\n        },\n{\n            'v': 47632.0,\n            'f': \"47632.0\",\n        },\n{\n            'v': 1049.0,\n            'f': \"1049.0\",\n        },\n{\n            'v': 7533332.0,\n            'f': \"7533332.0\",\n        }],\n [{\n            'v': 8526,\n            'f': \"8526\",\n        },\n\"Moldova\",\n{\n            'v': 1989.0,\n            'f': \"1989.0\",\n        },\n{\n            'v': 38695150.0,\n            'f': \"38695150.0\",\n        },\n{\n            'v': 10288.0,\n            'f': \"10288.0\",\n        },\n{\n            'v': 4347870.0,\n            'f': \"4347870.0\",\n        }],\n [{\n            'v': 2745,\n            'f': \"2745\",\n        },\n\"Colombia\",\n{\n            'v': 1997.0,\n            'f': \"1997.0\",\n        },\n{\n            'v': 64496528.0,\n            'f': \"64496528.0\",\n        },\n{\n            'v': 8952.47265625,\n            'f': \"8952.47265625\",\n        },\n{\n            'v': 37723803.0,\n            'f': \"37723803.0\",\n        }],\n [{\n            'v': 617,\n            'f': \"617\",\n        },\n\"Armenia\",\n{\n            'v': 1991.0,\n            'f': \"1991.0\",\n        },\n{\n            'v': 7288292.0,\n            'f': \"7288292.0\",\n        },\n{\n            'v': 8141.6708984375,\n            'f': \"8141.6708984375\",\n        },\n{\n            'v': 3505249.0,\n            'f': \"3505249.0\",\n        }]],\n        columns: [[\"number\", \"index\"], [\"string\", \"Entity\"], [\"number\", \"Year\"], [\"number\", \"Annual CO2 emissions\"], [\"number\", \"GDP per capita\"], [\"number\", \"Population\"]],\n        columnOptions: [{\"width\": \"1px\", \"className\": \"index_column\"}],\n        rowsPerPage: 25,\n        helpUrl: \"https://colab.research.google.com/notebooks/data_table.ipynb\",\n        suppressOutputScrolling: true,\n        minimumWidth: undefined,\n      });\n    "
          },
          "metadata": {},
          "execution_count": 58
        }
      ]
    },
    {
      "cell_type": "code",
      "source": [
        "df3.plot(kind='scatter', x='GDP per capita', y= 'Annual CO2 emissions')\n",
        "plt.title('GDP vs. Annual CO2 emissions')\n",
        "# very weak correlations appear"
      ],
      "metadata": {
        "colab": {
          "base_uri": "https://localhost:8080/",
          "height": 312
        },
        "id": "qeu1ClQDaHpT",
        "outputId": "4aebe601-583d-4bee-a5b6-212d2bd51f5a"
      },
      "execution_count": null,
      "outputs": [
        {
          "output_type": "execute_result",
          "data": {
            "text/plain": [
              "Text(0.5, 1.0, 'GDP vs. Annual CO2 emissions')"
            ]
          },
          "metadata": {},
          "execution_count": 36
        },
        {
          "output_type": "display_data",
          "data": {
            "text/plain": [
              "<Figure size 432x288 with 1 Axes>"
            ],
            "image/png": "[encoded data removed]"
          },
          "metadata": {
            "needs_background": "light"
          }
        }
      ]
    },
    {
      "cell_type": "code",
      "source": [
        "df3.plot(kind='scatter', x='Population', y= 'Annual CO2 emissions')\n",
        "plt.title('Population vs. Annual CO2 emissions')\n",
        "# very strong correlation appears"
      ],
      "metadata": {
        "colab": {
          "base_uri": "https://localhost:8080/",
          "height": 312
        },
        "id": "rEEfF-yYebZA",
        "outputId": "016989e8-dbd3-434b-f453-7e8302080144"
      },
      "execution_count": null,
      "outputs": [
        {
          "output_type": "execute_result",
          "data": {
            "text/plain": [
              "Text(0.5, 1.0, 'Population vs. Annual CO2 emissions')"
            ]
          },
          "metadata": {},
          "execution_count": 38
        },
        {
          "output_type": "display_data",
          "data": {
            "text/plain": [
              "<Figure size 432x288 with 1 Axes>"
            ],
            "image/png": "[encoded data removed]"
          },
          "metadata": {
            "needs_background": "light"
          }
        }
      ]
    },
    {
      "cell_type": "code",
      "source": [
        "#check with .corr()\n",
        "df3.corr()"
      ],
      "metadata": {
        "colab": {
          "base_uri": "https://localhost:8080/",
          "height": 175
        },
        "id": "KmZiRM--EqIb",
        "outputId": "bea08460-c095-40c8-d052-7228546e744b"
      },
      "execution_count": null,
      "outputs": [
        {
          "output_type": "execute_result",
          "data": {
            "text/plain": [
              "                          Year  Annual CO2 emissions  GDP per capita  \\\n",
              "Year                  1.000000              0.056677        0.283775   \n",
              "Annual CO2 emissions  0.056677              1.000000        0.106551   \n",
              "GDP per capita        0.283775              0.106551        1.000000   \n",
              "Population            0.049366              0.888515       -0.013292   \n",
              "\n",
              "                      Population  \n",
              "Year                    0.049366  \n",
              "Annual CO2 emissions    0.888515  \n",
              "GDP per capita         -0.013292  \n",
              "Population              1.000000  "
            ],
            "text/html": [
              "\n",
              "  <div id=\"df-c6a8ab79-e1dd-471c-9261-23bb047f9d33\">\n",
              "    <div class=\"colab-df-container\">\n",
              "      <div>\n",
              "<style scoped>\n",
              "    .dataframe tbody tr th:only-of-type {\n",
              "        vertical-align: middle;\n",
              "    }\n",
              "\n",
              "    .dataframe tbody tr th {\n",
              "        vertical-align: top;\n",
              "    }\n",
              "\n",
              "    .dataframe thead th {\n",
              "        text-align: right;\n",
              "    }\n",
              "</style>\n",
              "<table border=\"1\" class=\"dataframe\">\n",
              "  <thead>\n",
              "    <tr style=\"text-align: right;\">\n",
              "      <th></th>\n",
              "      <th>Year</th>\n",
              "      <th>Annual CO2 emissions</th>\n",
              "      <th>GDP per capita</th>\n",
              "      <th>Population</th>\n",
              "    </tr>\n",
              "  </thead>\n",
              "  <tbody>\n",
              "    <tr>\n",
              "      <th>Year</th>\n",
              "      <td>1.000000</td>\n",
              "      <td>0.056677</td>\n",
              "      <td>0.283775</td>\n",
              "      <td>0.049366</td>\n",
              "    </tr>\n",
              "    <tr>\n",
              "      <th>Annual CO2 emissions</th>\n",
              "      <td>0.056677</td>\n",
              "      <td>1.000000</td>\n",
              "      <td>0.106551</td>\n",
              "      <td>0.888515</td>\n",
              "    </tr>\n",
              "    <tr>\n",
              "      <th>GDP per capita</th>\n",
              "      <td>0.283775</td>\n",
              "      <td>0.106551</td>\n",
              "      <td>1.000000</td>\n",
              "      <td>-0.013292</td>\n",
              "    </tr>\n",
              "    <tr>\n",
              "      <th>Population</th>\n",
              "      <td>0.049366</td>\n",
              "      <td>0.888515</td>\n",
              "      <td>-0.013292</td>\n",
              "      <td>1.000000</td>\n",
              "    </tr>\n",
              "  </tbody>\n",
              "</table>\n",
              "</div>\n",
              "      <button class=\"colab-df-convert\" onclick=\"convertToInteractive('df-c6a8ab79-e1dd-471c-9261-23bb047f9d33')\"\n",
              "              title=\"Convert this dataframe to an interactive table.\"\n",
              "              style=\"display:none;\">\n",
              "        \n",
              "  <svg xmlns=\"http://www.w3.org/2000/svg\" height=\"24px\"viewBox=\"0 0 24 24\"\n",
              "       width=\"24px\">\n",
              "    <path d=\"M0 0h24v24H0V0z\" fill=\"none\"/>\n",
              "    <path d=\"M18.56 5.44l.94 2.06.94-2.06 2.06-.94-2.06-.94-.94-2.06-.94 2.06-2.06.94zm-11 1L8.5 8.5l.94-2.06 2.06-.94-2.06-.94L8.5 2.5l-.94 2.06-2.06.94zm10 10l.94 2.06.94-2.06 2.06-.94-2.06-.94-.94-2.06-.94 2.06-2.06.94z\"/><path d=\"M17.41 7.96l-1.37-1.37c-.4-.4-.92-.59-1.43-.59-.52 0-1.04.2-1.43.59L10.3 9.45l-7.72 7.72c-.78.78-.78 2.05 0 2.83L4 21.41c.39.39.9.59 1.41.59.51 0 1.02-.2 1.41-.59l7.78-7.78 2.81-2.81c.8-.78.8-2.07 0-2.86zM5.41 20L4 18.59l7.72-7.72 1.47 1.35L5.41 20z\"/>\n",
              "  </svg>\n",
              "      </button>\n",
              "      \n",
              "  <style>\n",
              "    .colab-df-container {\n",
              "      display:flex;\n",
              "      flex-wrap:wrap;\n",
              "      gap: 12px;\n",
              "    }\n",
              "\n",
              "    .colab-df-convert {\n",
              "      background-color: #E8F0FE;\n",
              "      border: none;\n",
              "      border-radius: 50%;\n",
              "      cursor: pointer;\n",
              "      display: none;\n",
              "      fill: #1967D2;\n",
              "      height: 32px;\n",
              "      padding: 0 0 0 0;\n",
              "      width: 32px;\n",
              "    }\n",
              "\n",
              "    .colab-df-convert:hover {\n",
              "      background-color: #E2EBFA;\n",
              "      box-shadow: 0px 1px 2px rgba(60, 64, 67, 0.3), 0px 1px 3px 1px rgba(60, 64, 67, 0.15);\n",
              "      fill: #174EA6;\n",
              "    }\n",
              "\n",
              "    [theme=dark] .colab-df-convert {\n",
              "      background-color: #3B4455;\n",
              "      fill: #D2E3FC;\n",
              "    }\n",
              "\n",
              "    [theme=dark] .colab-df-convert:hover {\n",
              "      background-color: #434B5C;\n",
              "      box-shadow: 0px 1px 3px 1px rgba(0, 0, 0, 0.15);\n",
              "      filter: drop-shadow(0px 1px 2px rgba(0, 0, 0, 0.3));\n",
              "      fill: #FFFFFF;\n",
              "    }\n",
              "  </style>\n",
              "\n",
              "      <script>\n",
              "        const buttonEl =\n",
              "          document.querySelector('#df-c6a8ab79-e1dd-471c-9261-23bb047f9d33 button.colab-df-convert');\n",
              "        buttonEl.style.display =\n",
              "          google.colab.kernel.accessAllowed ? 'block' : 'none';\n",
              "\n",
              "        async function convertToInteractive(key) {\n",
              "          const element = document.querySelector('#df-c6a8ab79-e1dd-471c-9261-23bb047f9d33');\n",
              "          const dataTable =\n",
              "            await google.colab.kernel.invokeFunction('convertToInteractive',\n",
              "                                                     [key], {});\n",
              "          if (!dataTable) return;\n",
              "\n",
              "          const docLinkHtml = 'Like what you see? Visit the ' +\n",
              "            '<a target=\"_blank\" href=https://colab.research.google.com/notebooks/data_table.ipynb>data table notebook</a>'\n",
              "            + ' to learn more about interactive tables.';\n",
              "          element.innerHTML = '';\n",
              "          dataTable['output_type'] = 'display_data';\n",
              "          await google.colab.output.renderOutput(dataTable, element);\n",
              "          const docLink = document.createElement('div');\n",
              "          docLink.innerHTML = docLinkHtml;\n",
              "          element.appendChild(docLink);\n",
              "        }\n",
              "      </script>\n",
              "    </div>\n",
              "  </div>\n",
              "  "
            ],
            "application/vnd.google.colaboratory.module+javascript": "\n      import \"https://ssl.gstatic.com/colaboratory/data_table/f872b2c2305463fd/data_table.js\";\n\n      window.createDataTable({\n        data: [[\"Year\",\n{\n            'v': 1.0,\n            'f': \"1.0\",\n        },\n{\n            'v': 0.05667713163256819,\n            'f': \"0.05667713163256819\",\n        },\n{\n            'v': 0.28377514382400354,\n            'f': \"0.28377514382400354\",\n        },\n{\n            'v': 0.049365968836308005,\n            'f': \"0.049365968836308005\",\n        }],\n [\"Annual CO2 emissions\",\n{\n            'v': 0.05667713163256819,\n            'f': \"0.05667713163256819\",\n        },\n{\n            'v': 1.0,\n            'f': \"1.0\",\n        },\n{\n            'v': 0.10655072781081375,\n            'f': \"0.10655072781081375\",\n        },\n{\n            'v': 0.888514658271988,\n            'f': \"0.888514658271988\",\n        }],\n [\"GDP per capita\",\n{\n            'v': 0.28377514382400354,\n            'f': \"0.28377514382400354\",\n        },\n{\n            'v': 0.10655072781081375,\n            'f': \"0.10655072781081375\",\n        },\n{\n            'v': 1.0,\n            'f': \"1.0\",\n        },\n{\n            'v': -0.013292132157620845,\n            'f': \"-0.013292132157620845\",\n        }],\n [\"Population\",\n{\n            'v': 0.049365968836308005,\n            'f': \"0.049365968836308005\",\n        },\n{\n            'v': 0.888514658271988,\n            'f': \"0.888514658271988\",\n        },\n{\n            'v': -0.013292132157620845,\n            'f': \"-0.013292132157620845\",\n        },\n{\n            'v': 1.0,\n            'f': \"1.0\",\n        }]],\n        columns: [[\"string\", \"index\"], [\"number\", \"Year\"], [\"number\", \"Annual CO2 emissions\"], [\"number\", \"GDP per capita\"], [\"number\", \"Population\"]],\n        columnOptions: [{\"width\": \"1px\", \"className\": \"index_column\"}],\n        rowsPerPage: 25,\n        helpUrl: \"https://colab.research.google.com/notebooks/data_table.ipynb\",\n        suppressOutputScrolling: true,\n        minimumWidth: undefined,\n      });\n    "
          },
          "metadata": {},
          "execution_count": 8
        }
      ]
    },
    {
      "cell_type": "code",
      "source": [
        "#results df3.corr()\n",
        "# very strong correlation CO2 versus Population > 0.88\n",
        "# very weak correlation CO2 versus GDP > 0.10\n",
        "\n",
        "# meaning of this coefficient: \n",
        "# If we wish to label the strength of the association, for absolute values of r, 0-0.19 is regarded as very weak, \n",
        "# 0.2-0.39 as weak, 0.40-0.59 as moderate, 0.6-0.79 as strong and 0.8-1 as very strong correlation, \n",
        "# but these are rather arbitrary limits, and the context of the results should be considered."
      ],
      "metadata": {
        "id": "Bd6ATW9SEw8X"
      },
      "execution_count": null,
      "outputs": []
    },
    {
      "cell_type": "code",
      "source": [
        "# further clean up and improvements of plot Population\n",
        "# remove outliers\n",
        "# add linear regression\n",
        "# add titel, labels, legend, etc."
      ],
      "metadata": {
        "id": "rjc8tPfSJZE7"
      },
      "execution_count": null,
      "outputs": []
    },
    {
      "cell_type": "code",
      "source": [
        "# first step: remove outliers\n",
        "# check Year > 1989 \n",
        "# check annual CO2 emission - values\n",
        "# delete Entity 'Barbados'\n",
        "\n",
        "df4 = df3[df3['Year'] > 1999]\n",
        "df5 = df4[df4['Annual CO2 emissions'] > 626544.0]\n",
        "df6 = df5[df5.Entity != 'Barbados']\n",
        "df7 = df6[df6.Entity != 'World']"
      ],
      "metadata": {
        "id": "iRNgM2h3XKTa"
      },
      "execution_count": null,
      "outputs": []
    },
    {
      "cell_type": "code",
      "source": [
        "#just currious what figures a World plot give: HUGE overall correlation!!\n",
        "df_World = df3[df3.Entity == 'World']\n",
        "df_World\n",
        "df_World.corr()"
      ],
      "metadata": {
        "colab": {
          "base_uri": "https://localhost:8080/",
          "height": 175
        },
        "id": "iplpJ4G2w0Xn",
        "outputId": "21bcc900-31d1-4a3b-8f1c-7d41dc2d2b27"
      },
      "execution_count": null,
      "outputs": [
        {
          "output_type": "execute_result",
          "data": {
            "text/plain": [
              "                          Year  Annual CO2 emissions  GDP per capita  \\\n",
              "Year                  1.000000              0.990340        0.982257   \n",
              "Annual CO2 emissions  0.990340              1.000000        0.994738   \n",
              "GDP per capita        0.982257              0.994738        1.000000   \n",
              "Population            0.999924              0.990071        0.982604   \n",
              "\n",
              "                      Population  \n",
              "Year                    0.999924  \n",
              "Annual CO2 emissions    0.990071  \n",
              "GDP per capita          0.982604  \n",
              "Population              1.000000  "
            ],
            "text/html": [
              "\n",
              "  <div id=\"df-ad50c234-073f-4852-847c-afb1558870df\">\n",
              "    <div class=\"colab-df-container\">\n",
              "      <div>\n",
              "<style scoped>\n",
              "    .dataframe tbody tr th:only-of-type {\n",
              "        vertical-align: middle;\n",
              "    }\n",
              "\n",
              "    .dataframe tbody tr th {\n",
              "        vertical-align: top;\n",
              "    }\n",
              "\n",
              "    .dataframe thead th {\n",
              "        text-align: right;\n",
              "    }\n",
              "</style>\n",
              "<table border=\"1\" class=\"dataframe\">\n",
              "  <thead>\n",
              "    <tr style=\"text-align: right;\">\n",
              "      <th></th>\n",
              "      <th>Year</th>\n",
              "      <th>Annual CO2 emissions</th>\n",
              "      <th>GDP per capita</th>\n",
              "      <th>Population</th>\n",
              "    </tr>\n",
              "  </thead>\n",
              "  <tbody>\n",
              "    <tr>\n",
              "      <th>Year</th>\n",
              "      <td>1.000000</td>\n",
              "      <td>0.990340</td>\n",
              "      <td>0.982257</td>\n",
              "      <td>0.999924</td>\n",
              "    </tr>\n",
              "    <tr>\n",
              "      <th>Annual CO2 emissions</th>\n",
              "      <td>0.990340</td>\n",
              "      <td>1.000000</td>\n",
              "      <td>0.994738</td>\n",
              "      <td>0.990071</td>\n",
              "    </tr>\n",
              "    <tr>\n",
              "      <th>GDP per capita</th>\n",
              "      <td>0.982257</td>\n",
              "      <td>0.994738</td>\n",
              "      <td>1.000000</td>\n",
              "      <td>0.982604</td>\n",
              "    </tr>\n",
              "    <tr>\n",
              "      <th>Population</th>\n",
              "      <td>0.999924</td>\n",
              "      <td>0.990071</td>\n",
              "      <td>0.982604</td>\n",
              "      <td>1.000000</td>\n",
              "    </tr>\n",
              "  </tbody>\n",
              "</table>\n",
              "</div>\n",
              "      <button class=\"colab-df-convert\" onclick=\"convertToInteractive('df-ad50c234-073f-4852-847c-afb1558870df')\"\n",
              "              title=\"Convert this dataframe to an interactive table.\"\n",
              "              style=\"display:none;\">\n",
              "        \n",
              "  <svg xmlns=\"http://www.w3.org/2000/svg\" height=\"24px\"viewBox=\"0 0 24 24\"\n",
              "       width=\"24px\">\n",
              "    <path d=\"M0 0h24v24H0V0z\" fill=\"none\"/>\n",
              "    <path d=\"M18.56 5.44l.94 2.06.94-2.06 2.06-.94-2.06-.94-.94-2.06-.94 2.06-2.06.94zm-11 1L8.5 8.5l.94-2.06 2.06-.94-2.06-.94L8.5 2.5l-.94 2.06-2.06.94zm10 10l.94 2.06.94-2.06 2.06-.94-2.06-.94-.94-2.06-.94 2.06-2.06.94z\"/><path d=\"M17.41 7.96l-1.37-1.37c-.4-.4-.92-.59-1.43-.59-.52 0-1.04.2-1.43.59L10.3 9.45l-7.72 7.72c-.78.78-.78 2.05 0 2.83L4 21.41c.39.39.9.59 1.41.59.51 0 1.02-.2 1.41-.59l7.78-7.78 2.81-2.81c.8-.78.8-2.07 0-2.86zM5.41 20L4 18.59l7.72-7.72 1.47 1.35L5.41 20z\"/>\n",
              "  </svg>\n",
              "      </button>\n",
              "      \n",
              "  <style>\n",
              "    .colab-df-container {\n",
              "      display:flex;\n",
              "      flex-wrap:wrap;\n",
              "      gap: 12px;\n",
              "    }\n",
              "\n",
              "    .colab-df-convert {\n",
              "      background-color: #E8F0FE;\n",
              "      border: none;\n",
              "      border-radius: 50%;\n",
              "      cursor: pointer;\n",
              "      display: none;\n",
              "      fill: #1967D2;\n",
              "      height: 32px;\n",
              "      padding: 0 0 0 0;\n",
              "      width: 32px;\n",
              "    }\n",
              "\n",
              "    .colab-df-convert:hover {\n",
              "      background-color: #E2EBFA;\n",
              "      box-shadow: 0px 1px 2px rgba(60, 64, 67, 0.3), 0px 1px 3px 1px rgba(60, 64, 67, 0.15);\n",
              "      fill: #174EA6;\n",
              "    }\n",
              "\n",
              "    [theme=dark] .colab-df-convert {\n",
              "      background-color: #3B4455;\n",
              "      fill: #D2E3FC;\n",
              "    }\n",
              "\n",
              "    [theme=dark] .colab-df-convert:hover {\n",
              "      background-color: #434B5C;\n",
              "      box-shadow: 0px 1px 3px 1px rgba(0, 0, 0, 0.15);\n",
              "      filter: drop-shadow(0px 1px 2px rgba(0, 0, 0, 0.3));\n",
              "      fill: #FFFFFF;\n",
              "    }\n",
              "  </style>\n",
              "\n",
              "      <script>\n",
              "        const buttonEl =\n",
              "          document.querySelector('#df-ad50c234-073f-4852-847c-afb1558870df button.colab-df-convert');\n",
              "        buttonEl.style.display =\n",
              "          google.colab.kernel.accessAllowed ? 'block' : 'none';\n",
              "\n",
              "        async function convertToInteractive(key) {\n",
              "          const element = document.querySelector('#df-ad50c234-073f-4852-847c-afb1558870df');\n",
              "          const dataTable =\n",
              "            await google.colab.kernel.invokeFunction('convertToInteractive',\n",
              "                                                     [key], {});\n",
              "          if (!dataTable) return;\n",
              "\n",
              "          const docLinkHtml = 'Like what you see? Visit the ' +\n",
              "            '<a target=\"_blank\" href=https://colab.research.google.com/notebooks/data_table.ipynb>data table notebook</a>'\n",
              "            + ' to learn more about interactive tables.';\n",
              "          element.innerHTML = '';\n",
              "          dataTable['output_type'] = 'display_data';\n",
              "          await google.colab.output.renderOutput(dataTable, element);\n",
              "          const docLink = document.createElement('div');\n",
              "          docLink.innerHTML = docLinkHtml;\n",
              "          element.appendChild(docLink);\n",
              "        }\n",
              "      </script>\n",
              "    </div>\n",
              "  </div>\n",
              "  "
            ],
            "application/vnd.google.colaboratory.module+javascript": "\n      import \"https://ssl.gstatic.com/colaboratory/data_table/f872b2c2305463fd/data_table.js\";\n\n      window.createDataTable({\n        data: [[\"Year\",\n{\n            'v': 1.0,\n            'f': \"1.0\",\n        },\n{\n            'v': 0.9903403139429853,\n            'f': \"0.9903403139429853\",\n        },\n{\n            'v': 0.9822573830556477,\n            'f': \"0.9822573830556477\",\n        },\n{\n            'v': 0.999923978310019,\n            'f': \"0.999923978310019\",\n        }],\n [\"Annual CO2 emissions\",\n{\n            'v': 0.9903403139429853,\n            'f': \"0.9903403139429853\",\n        },\n{\n            'v': 1.0,\n            'f': \"1.0\",\n        },\n{\n            'v': 0.9947383185325823,\n            'f': \"0.9947383185325823\",\n        },\n{\n            'v': 0.9900708955517081,\n            'f': \"0.9900708955517081\",\n        }],\n [\"GDP per capita\",\n{\n            'v': 0.9822573830556477,\n            'f': \"0.9822573830556477\",\n        },\n{\n            'v': 0.9947383185325823,\n            'f': \"0.9947383185325823\",\n        },\n{\n            'v': 1.0,\n            'f': \"1.0\",\n        },\n{\n            'v': 0.9826036669143178,\n            'f': \"0.9826036669143178\",\n        }],\n [\"Population\",\n{\n            'v': 0.999923978310019,\n            'f': \"0.999923978310019\",\n        },\n{\n            'v': 0.9900708955517081,\n            'f': \"0.9900708955517081\",\n        },\n{\n            'v': 0.9826036669143178,\n            'f': \"0.9826036669143178\",\n        },\n{\n            'v': 1.0,\n            'f': \"1.0\",\n        }]],\n        columns: [[\"string\", \"index\"], [\"number\", \"Year\"], [\"number\", \"Annual CO2 emissions\"], [\"number\", \"GDP per capita\"], [\"number\", \"Population\"]],\n        columnOptions: [{\"width\": \"1px\", \"className\": \"index_column\"}],\n        rowsPerPage: 25,\n        helpUrl: \"https://colab.research.google.com/notebooks/data_table.ipynb\",\n        suppressOutputScrolling: true,\n        minimumWidth: undefined,\n      });\n    "
          },
          "metadata": {},
          "execution_count": 43
        }
      ]
    },
    {
      "cell_type": "code",
      "source": [
        "#World plot\n",
        "df_World.plot(kind='scatter', x = 'Population', y = 'Annual CO2 emissions')\n",
        "plt.title('World Popuplation vs. Annual CO2 emissions')\n",
        "plt.xlabel('Population growth')\n",
        "#plt.ylabel('')\n"
      ],
      "metadata": {
        "colab": {
          "base_uri": "https://localhost:8080/",
          "height": 312
        },
        "id": "XYfwD0ZgeZak",
        "outputId": "2706bebd-242b-478b-dc02-d5f1395163c5"
      },
      "execution_count": null,
      "outputs": [
        {
          "output_type": "execute_result",
          "data": {
            "text/plain": [
              "Text(0.5, 0, 'Population growth')"
            ]
          },
          "metadata": {},
          "execution_count": 46
        },
        {
          "output_type": "display_data",
          "data": {
            "text/plain": [
              "<Figure size 432x288 with 1 Axes>"
            ],
            "image/png": "[encoded data removed]"
          },
          "metadata": {
            "needs_background": "light"
          }
        }
      ]
    },
    {
      "cell_type": "code",
      "source": [
        "# correlation df7 (cleaned op dataset)\n",
        "df7.corr()"
      ],
      "metadata": {
        "colab": {
          "base_uri": "https://localhost:8080/",
          "height": 175
        },
        "id": "RK6CvAR6eHGv",
        "outputId": "8b46ff64-a820-41c9-c81e-059771125763"
      },
      "execution_count": null,
      "outputs": [
        {
          "output_type": "execute_result",
          "data": {
            "text/plain": [
              "                          Year  Annual CO2 emissions  GDP per capita  \\\n",
              "Year                  1.000000              0.025518        0.120443   \n",
              "Annual CO2 emissions  0.025518              1.000000        0.113651   \n",
              "GDP per capita        0.120443              0.113651        1.000000   \n",
              "Population            0.016467              0.746020       -0.067884   \n",
              "\n",
              "                      Population  \n",
              "Year                    0.016467  \n",
              "Annual CO2 emissions    0.746020  \n",
              "GDP per capita         -0.067884  \n",
              "Population              1.000000  "
            ],
            "text/html": [
              "\n",
              "  <div id=\"df-5b8ddbd2-f2d8-4bf0-a864-695271ad3874\">\n",
              "    <div class=\"colab-df-container\">\n",
              "      <div>\n",
              "<style scoped>\n",
              "    .dataframe tbody tr th:only-of-type {\n",
              "        vertical-align: middle;\n",
              "    }\n",
              "\n",
              "    .dataframe tbody tr th {\n",
              "        vertical-align: top;\n",
              "    }\n",
              "\n",
              "    .dataframe thead th {\n",
              "        text-align: right;\n",
              "    }\n",
              "</style>\n",
              "<table border=\"1\" class=\"dataframe\">\n",
              "  <thead>\n",
              "    <tr style=\"text-align: right;\">\n",
              "      <th></th>\n",
              "      <th>Year</th>\n",
              "      <th>Annual CO2 emissions</th>\n",
              "      <th>GDP per capita</th>\n",
              "      <th>Population</th>\n",
              "    </tr>\n",
              "  </thead>\n",
              "  <tbody>\n",
              "    <tr>\n",
              "      <th>Year</th>\n",
              "      <td>1.000000</td>\n",
              "      <td>0.025518</td>\n",
              "      <td>0.120443</td>\n",
              "      <td>0.016467</td>\n",
              "    </tr>\n",
              "    <tr>\n",
              "      <th>Annual CO2 emissions</th>\n",
              "      <td>0.025518</td>\n",
              "      <td>1.000000</td>\n",
              "      <td>0.113651</td>\n",
              "      <td>0.746020</td>\n",
              "    </tr>\n",
              "    <tr>\n",
              "      <th>GDP per capita</th>\n",
              "      <td>0.120443</td>\n",
              "      <td>0.113651</td>\n",
              "      <td>1.000000</td>\n",
              "      <td>-0.067884</td>\n",
              "    </tr>\n",
              "    <tr>\n",
              "      <th>Population</th>\n",
              "      <td>0.016467</td>\n",
              "      <td>0.746020</td>\n",
              "      <td>-0.067884</td>\n",
              "      <td>1.000000</td>\n",
              "    </tr>\n",
              "  </tbody>\n",
              "</table>\n",
              "</div>\n",
              "      <button class=\"colab-df-convert\" onclick=\"convertToInteractive('df-5b8ddbd2-f2d8-4bf0-a864-695271ad3874')\"\n",
              "              title=\"Convert this dataframe to an interactive table.\"\n",
              "              style=\"display:none;\">\n",
              "        \n",
              "  <svg xmlns=\"http://www.w3.org/2000/svg\" height=\"24px\"viewBox=\"0 0 24 24\"\n",
              "       width=\"24px\">\n",
              "    <path d=\"M0 0h24v24H0V0z\" fill=\"none\"/>\n",
              "    <path d=\"M18.56 5.44l.94 2.06.94-2.06 2.06-.94-2.06-.94-.94-2.06-.94 2.06-2.06.94zm-11 1L8.5 8.5l.94-2.06 2.06-.94-2.06-.94L8.5 2.5l-.94 2.06-2.06.94zm10 10l.94 2.06.94-2.06 2.06-.94-2.06-.94-.94-2.06-.94 2.06-2.06.94z\"/><path d=\"M17.41 7.96l-1.37-1.37c-.4-.4-.92-.59-1.43-.59-.52 0-1.04.2-1.43.59L10.3 9.45l-7.72 7.72c-.78.78-.78 2.05 0 2.83L4 21.41c.39.39.9.59 1.41.59.51 0 1.02-.2 1.41-.59l7.78-7.78 2.81-2.81c.8-.78.8-2.07 0-2.86zM5.41 20L4 18.59l7.72-7.72 1.47 1.35L5.41 20z\"/>\n",
              "  </svg>\n",
              "      </button>\n",
              "      \n",
              "  <style>\n",
              "    .colab-df-container {\n",
              "      display:flex;\n",
              "      flex-wrap:wrap;\n",
              "      gap: 12px;\n",
              "    }\n",
              "\n",
              "    .colab-df-convert {\n",
              "      background-color: #E8F0FE;\n",
              "      border: none;\n",
              "      border-radius: 50%;\n",
              "      cursor: pointer;\n",
              "      display: none;\n",
              "      fill: #1967D2;\n",
              "      height: 32px;\n",
              "      padding: 0 0 0 0;\n",
              "      width: 32px;\n",
              "    }\n",
              "\n",
              "    .colab-df-convert:hover {\n",
              "      background-color: #E2EBFA;\n",
              "      box-shadow: 0px 1px 2px rgba(60, 64, 67, 0.3), 0px 1px 3px 1px rgba(60, 64, 67, 0.15);\n",
              "      fill: #174EA6;\n",
              "    }\n",
              "\n",
              "    [theme=dark] .colab-df-convert {\n",
              "      background-color: #3B4455;\n",
              "      fill: #D2E3FC;\n",
              "    }\n",
              "\n",
              "    [theme=dark] .colab-df-convert:hover {\n",
              "      background-color: #434B5C;\n",
              "      box-shadow: 0px 1px 3px 1px rgba(0, 0, 0, 0.15);\n",
              "      filter: drop-shadow(0px 1px 2px rgba(0, 0, 0, 0.3));\n",
              "      fill: #FFFFFF;\n",
              "    }\n",
              "  </style>\n",
              "\n",
              "      <script>\n",
              "        const buttonEl =\n",
              "          document.querySelector('#df-5b8ddbd2-f2d8-4bf0-a864-695271ad3874 button.colab-df-convert');\n",
              "        buttonEl.style.display =\n",
              "          google.colab.kernel.accessAllowed ? 'block' : 'none';\n",
              "\n",
              "        async function convertToInteractive(key) {\n",
              "          const element = document.querySelector('#df-5b8ddbd2-f2d8-4bf0-a864-695271ad3874');\n",
              "          const dataTable =\n",
              "            await google.colab.kernel.invokeFunction('convertToInteractive',\n",
              "                                                     [key], {});\n",
              "          if (!dataTable) return;\n",
              "\n",
              "          const docLinkHtml = 'Like what you see? Visit the ' +\n",
              "            '<a target=\"_blank\" href=https://colab.research.google.com/notebooks/data_table.ipynb>data table notebook</a>'\n",
              "            + ' to learn more about interactive tables.';\n",
              "          element.innerHTML = '';\n",
              "          dataTable['output_type'] = 'display_data';\n",
              "          await google.colab.output.renderOutput(dataTable, element);\n",
              "          const docLink = document.createElement('div');\n",
              "          docLink.innerHTML = docLinkHtml;\n",
              "          element.appendChild(docLink);\n",
              "        }\n",
              "      </script>\n",
              "    </div>\n",
              "  </div>\n",
              "  "
            ],
            "application/vnd.google.colaboratory.module+javascript": "\n      import \"https://ssl.gstatic.com/colaboratory/data_table/f872b2c2305463fd/data_table.js\";\n\n      window.createDataTable({\n        data: [[\"Year\",\n{\n            'v': 1.0,\n            'f': \"1.0\",\n        },\n{\n            'v': 0.025518026262781414,\n            'f': \"0.025518026262781414\",\n        },\n{\n            'v': 0.12044330350482152,\n            'f': \"0.12044330350482152\",\n        },\n{\n            'v': 0.016467047092400385,\n            'f': \"0.016467047092400385\",\n        }],\n [\"Annual CO2 emissions\",\n{\n            'v': 0.025518026262781414,\n            'f': \"0.025518026262781414\",\n        },\n{\n            'v': 1.0,\n            'f': \"1.0\",\n        },\n{\n            'v': 0.113650675125905,\n            'f': \"0.113650675125905\",\n        },\n{\n            'v': 0.7460196562690641,\n            'f': \"0.7460196562690641\",\n        }],\n [\"GDP per capita\",\n{\n            'v': 0.12044330350482152,\n            'f': \"0.12044330350482152\",\n        },\n{\n            'v': 0.113650675125905,\n            'f': \"0.113650675125905\",\n        },\n{\n            'v': 1.0,\n            'f': \"1.0\",\n        },\n{\n            'v': -0.0678841770683559,\n            'f': \"-0.0678841770683559\",\n        }],\n [\"Population\",\n{\n            'v': 0.016467047092400385,\n            'f': \"0.016467047092400385\",\n        },\n{\n            'v': 0.7460196562690641,\n            'f': \"0.7460196562690641\",\n        },\n{\n            'v': -0.0678841770683559,\n            'f': \"-0.0678841770683559\",\n        },\n{\n            'v': 1.0,\n            'f': \"1.0\",\n        }]],\n        columns: [[\"string\", \"index\"], [\"number\", \"Year\"], [\"number\", \"Annual CO2 emissions\"], [\"number\", \"GDP per capita\"], [\"number\", \"Population\"]],\n        columnOptions: [{\"width\": \"1px\", \"className\": \"index_column\"}],\n        rowsPerPage: 25,\n        helpUrl: \"https://colab.research.google.com/notebooks/data_table.ipynb\",\n        suppressOutputScrolling: true,\n        minimumWidth: undefined,\n      });\n    "
          },
          "metadata": {},
          "execution_count": 16
        }
      ]
    },
    {
      "cell_type": "code",
      "source": [
        "# see what this  plot looks like:\n",
        "df7.plot(kind='scatter', x = 'Population', y = 'Annual CO2 emissions')\n",
        "plt.title('World Population vs. Annual CO2 emissions')\n",
        "plt.xlabel('Population growth')\n",
        "#plt.ylabel('')\n"
      ],
      "metadata": {
        "colab": {
          "base_uri": "https://localhost:8080/",
          "height": 312
        },
        "id": "PZI3BAmNdE87",
        "outputId": "2a83bc59-bd37-4bd4-a71e-7518528a3476"
      },
      "execution_count": null,
      "outputs": [
        {
          "output_type": "execute_result",
          "data": {
            "text/plain": [
              "Text(0.5, 0, 'Population growth')"
            ]
          },
          "metadata": {},
          "execution_count": 49
        },
        {
          "output_type": "display_data",
          "data": {
            "text/plain": [
              "<Figure size 432x288 with 1 Axes>"
            ],
            "image/png": "[encoded data removed]"
          },
          "metadata": {
            "needs_background": "light"
          }
        }
      ]
    },
    {
      "cell_type": "code",
      "source": [
        "# df8 only big pop countries > 270000000 China, India, United States\n",
        "df8=df7[df7['Population'] > 270000000.0]\n",
        "df8.plot(kind='scatter', x = 'Population', y = 'Annual CO2 emissions')\n",
        "plt.title('World Population vs. Annual CO2 emissions')\n",
        "plt.xlabel('Population growth')\n",
        "#plt.ylabel('')"
      ],
      "metadata": {
        "colab": {
          "base_uri": "https://localhost:8080/",
          "height": 312
        },
        "id": "ipePXLDLgEVI",
        "outputId": "0a501051-af1c-4009-da4a-a35af558751d"
      },
      "execution_count": null,
      "outputs": [
        {
          "output_type": "execute_result",
          "data": {
            "text/plain": [
              "Text(0.5, 0, 'Population growth')"
            ]
          },
          "metadata": {},
          "execution_count": 50
        },
        {
          "output_type": "display_data",
          "data": {
            "text/plain": [
              "<Figure size 432x288 with 1 Axes>"
            ],
            "image/png": "[encoded data removed]"
          },
          "metadata": {
            "needs_background": "light"
          }
        }
      ]
    },
    {
      "cell_type": "code",
      "source": [
        "# df9 without big countries\n",
        "df9=df7[df7['Population'] < 270000000.0]\n",
        "df9.plot(kind='scatter', x = 'Population', y = 'Annual CO2 emissions')\n",
        "plt.title('World Popuplation vs. Annual CO2 emissions')\n",
        "plt.xlabel('Population growth')\n",
        "#plt.ylabel('')"
      ],
      "metadata": {
        "colab": {
          "base_uri": "https://localhost:8080/",
          "height": 312
        },
        "id": "YyhkoOYsgh6w",
        "outputId": "12d38424-f554-43da-b641-1d91415aa3f7"
      },
      "execution_count": null,
      "outputs": [
        {
          "output_type": "execute_result",
          "data": {
            "text/plain": [
              "Text(0.5, 0, 'Population growth')"
            ]
          },
          "metadata": {},
          "execution_count": 51
        },
        {
          "output_type": "display_data",
          "data": {
            "text/plain": [
              "<Figure size 432x288 with 1 Axes>"
            ],
            "image/png": "[encoded data removed]"
          },
          "metadata": {
            "needs_background": "light"
          }
        }
      ]
    },
    {
      "cell_type": "code",
      "source": [
        "df9.corr()\n",
        "#corr CO2 > Pop begins to look weaker, still strong with 0.58"
      ],
      "metadata": {
        "colab": {
          "base_uri": "https://localhost:8080/",
          "height": 175
        },
        "id": "ALPOJ5cShIhM",
        "outputId": "60ad9449-09ba-4b16-93cc-605f84799e16"
      },
      "execution_count": null,
      "outputs": [
        {
          "output_type": "execute_result",
          "data": {
            "text/plain": [
              "                          Year  Annual CO2 emissions  GDP per capita  \\\n",
              "Year                  1.000000              0.022924        0.120979   \n",
              "Annual CO2 emissions  0.022924              1.000000        0.244738   \n",
              "GDP per capita        0.120979              0.244738        1.000000   \n",
              "Population            0.044667              0.581204       -0.112368   \n",
              "\n",
              "                      Population  \n",
              "Year                    0.044667  \n",
              "Annual CO2 emissions    0.581204  \n",
              "GDP per capita         -0.112368  \n",
              "Population              1.000000  "
            ],
            "text/html": [
              "\n",
              "  <div id=\"df-3933c681-af4b-40c1-817d-0c8c14e32307\">\n",
              "    <div class=\"colab-df-container\">\n",
              "      <div>\n",
              "<style scoped>\n",
              "    .dataframe tbody tr th:only-of-type {\n",
              "        vertical-align: middle;\n",
              "    }\n",
              "\n",
              "    .dataframe tbody tr th {\n",
              "        vertical-align: top;\n",
              "    }\n",
              "\n",
              "    .dataframe thead th {\n",
              "        text-align: right;\n",
              "    }\n",
              "</style>\n",
              "<table border=\"1\" class=\"dataframe\">\n",
              "  <thead>\n",
              "    <tr style=\"text-align: right;\">\n",
              "      <th></th>\n",
              "      <th>Year</th>\n",
              "      <th>Annual CO2 emissions</th>\n",
              "      <th>GDP per capita</th>\n",
              "      <th>Population</th>\n",
              "    </tr>\n",
              "  </thead>\n",
              "  <tbody>\n",
              "    <tr>\n",
              "      <th>Year</th>\n",
              "      <td>1.000000</td>\n",
              "      <td>0.022924</td>\n",
              "      <td>0.120979</td>\n",
              "      <td>0.044667</td>\n",
              "    </tr>\n",
              "    <tr>\n",
              "      <th>Annual CO2 emissions</th>\n",
              "      <td>0.022924</td>\n",
              "      <td>1.000000</td>\n",
              "      <td>0.244738</td>\n",
              "      <td>0.581204</td>\n",
              "    </tr>\n",
              "    <tr>\n",
              "      <th>GDP per capita</th>\n",
              "      <td>0.120979</td>\n",
              "      <td>0.244738</td>\n",
              "      <td>1.000000</td>\n",
              "      <td>-0.112368</td>\n",
              "    </tr>\n",
              "    <tr>\n",
              "      <th>Population</th>\n",
              "      <td>0.044667</td>\n",
              "      <td>0.581204</td>\n",
              "      <td>-0.112368</td>\n",
              "      <td>1.000000</td>\n",
              "    </tr>\n",
              "  </tbody>\n",
              "</table>\n",
              "</div>\n",
              "      <button class=\"colab-df-convert\" onclick=\"convertToInteractive('df-3933c681-af4b-40c1-817d-0c8c14e32307')\"\n",
              "              title=\"Convert this dataframe to an interactive table.\"\n",
              "              style=\"display:none;\">\n",
              "        \n",
              "  <svg xmlns=\"http://www.w3.org/2000/svg\" height=\"24px\"viewBox=\"0 0 24 24\"\n",
              "       width=\"24px\">\n",
              "    <path d=\"M0 0h24v24H0V0z\" fill=\"none\"/>\n",
              "    <path d=\"M18.56 5.44l.94 2.06.94-2.06 2.06-.94-2.06-.94-.94-2.06-.94 2.06-2.06.94zm-11 1L8.5 8.5l.94-2.06 2.06-.94-2.06-.94L8.5 2.5l-.94 2.06-2.06.94zm10 10l.94 2.06.94-2.06 2.06-.94-2.06-.94-.94-2.06-.94 2.06-2.06.94z\"/><path d=\"M17.41 7.96l-1.37-1.37c-.4-.4-.92-.59-1.43-.59-.52 0-1.04.2-1.43.59L10.3 9.45l-7.72 7.72c-.78.78-.78 2.05 0 2.83L4 21.41c.39.39.9.59 1.41.59.51 0 1.02-.2 1.41-.59l7.78-7.78 2.81-2.81c.8-.78.8-2.07 0-2.86zM5.41 20L4 18.59l7.72-7.72 1.47 1.35L5.41 20z\"/>\n",
              "  </svg>\n",
              "      </button>\n",
              "      \n",
              "  <style>\n",
              "    .colab-df-container {\n",
              "      display:flex;\n",
              "      flex-wrap:wrap;\n",
              "      gap: 12px;\n",
              "    }\n",
              "\n",
              "    .colab-df-convert {\n",
              "      background-color: #E8F0FE;\n",
              "      border: none;\n",
              "      border-radius: 50%;\n",
              "      cursor: pointer;\n",
              "      display: none;\n",
              "      fill: #1967D2;\n",
              "      height: 32px;\n",
              "      padding: 0 0 0 0;\n",
              "      width: 32px;\n",
              "    }\n",
              "\n",
              "    .colab-df-convert:hover {\n",
              "      background-color: #E2EBFA;\n",
              "      box-shadow: 0px 1px 2px rgba(60, 64, 67, 0.3), 0px 1px 3px 1px rgba(60, 64, 67, 0.15);\n",
              "      fill: #174EA6;\n",
              "    }\n",
              "\n",
              "    [theme=dark] .colab-df-convert {\n",
              "      background-color: #3B4455;\n",
              "      fill: #D2E3FC;\n",
              "    }\n",
              "\n",
              "    [theme=dark] .colab-df-convert:hover {\n",
              "      background-color: #434B5C;\n",
              "      box-shadow: 0px 1px 3px 1px rgba(0, 0, 0, 0.15);\n",
              "      filter: drop-shadow(0px 1px 2px rgba(0, 0, 0, 0.3));\n",
              "      fill: #FFFFFF;\n",
              "    }\n",
              "  </style>\n",
              "\n",
              "      <script>\n",
              "        const buttonEl =\n",
              "          document.querySelector('#df-3933c681-af4b-40c1-817d-0c8c14e32307 button.colab-df-convert');\n",
              "        buttonEl.style.display =\n",
              "          google.colab.kernel.accessAllowed ? 'block' : 'none';\n",
              "\n",
              "        async function convertToInteractive(key) {\n",
              "          const element = document.querySelector('#df-3933c681-af4b-40c1-817d-0c8c14e32307');\n",
              "          const dataTable =\n",
              "            await google.colab.kernel.invokeFunction('convertToInteractive',\n",
              "                                                     [key], {});\n",
              "          if (!dataTable) return;\n",
              "\n",
              "          const docLinkHtml = 'Like what you see? Visit the ' +\n",
              "            '<a target=\"_blank\" href=https://colab.research.google.com/notebooks/data_table.ipynb>data table notebook</a>'\n",
              "            + ' to learn more about interactive tables.';\n",
              "          element.innerHTML = '';\n",
              "          dataTable['output_type'] = 'display_data';\n",
              "          await google.colab.output.renderOutput(dataTable, element);\n",
              "          const docLink = document.createElement('div');\n",
              "          docLink.innerHTML = docLinkHtml;\n",
              "          element.appendChild(docLink);\n",
              "        }\n",
              "      </script>\n",
              "    </div>\n",
              "  </div>\n",
              "  "
            ],
            "application/vnd.google.colaboratory.module+javascript": "\n      import \"https://ssl.gstatic.com/colaboratory/data_table/f872b2c2305463fd/data_table.js\";\n\n      window.createDataTable({\n        data: [[\"Year\",\n{\n            'v': 1.0,\n            'f': \"1.0\",\n        },\n{\n            'v': 0.02292374054260725,\n            'f': \"0.02292374054260725\",\n        },\n{\n            'v': 0.12097860087449903,\n            'f': \"0.12097860087449903\",\n        },\n{\n            'v': 0.04466668832669197,\n            'f': \"0.04466668832669197\",\n        }],\n [\"Annual CO2 emissions\",\n{\n            'v': 0.02292374054260725,\n            'f': \"0.02292374054260725\",\n        },\n{\n            'v': 1.0,\n            'f': \"1.0\",\n        },\n{\n            'v': 0.244737773377239,\n            'f': \"0.244737773377239\",\n        },\n{\n            'v': 0.5812041025459938,\n            'f': \"0.5812041025459938\",\n        }],\n [\"GDP per capita\",\n{\n            'v': 0.12097860087449903,\n            'f': \"0.12097860087449903\",\n        },\n{\n            'v': 0.244737773377239,\n            'f': \"0.244737773377239\",\n        },\n{\n            'v': 1.0,\n            'f': \"1.0\",\n        },\n{\n            'v': -0.11236840180621686,\n            'f': \"-0.11236840180621686\",\n        }],\n [\"Population\",\n{\n            'v': 0.04466668832669197,\n            'f': \"0.04466668832669197\",\n        },\n{\n            'v': 0.5812041025459938,\n            'f': \"0.5812041025459938\",\n        },\n{\n            'v': -0.11236840180621686,\n            'f': \"-0.11236840180621686\",\n        },\n{\n            'v': 1.0,\n            'f': \"1.0\",\n        }]],\n        columns: [[\"string\", \"index\"], [\"number\", \"Year\"], [\"number\", \"Annual CO2 emissions\"], [\"number\", \"GDP per capita\"], [\"number\", \"Population\"]],\n        columnOptions: [{\"width\": \"1px\", \"className\": \"index_column\"}],\n        rowsPerPage: 25,\n        helpUrl: \"https://colab.research.google.com/notebooks/data_table.ipynb\",\n        suppressOutputScrolling: true,\n        minimumWidth: undefined,\n      });\n    "
          },
          "metadata": {},
          "execution_count": 20
        }
      ]
    },
    {
      "cell_type": "code",
      "source": [
        "# Population Plot df9 without China, India, United States\n",
        "# add reg line\n",
        "# theorie: Linear regression uses the relationship between the data-points to draw a straight line through all them.\n",
        "# This line can be used to predict future values.\n",
        "\n",
        "import seaborn as sns\n",
        "from sklearn.linear_model import LinearRegression\n",
        "import matplotlib.patches as mpatches\n",
        "\n",
        "#df3.plot(kind='scatter', x = 'Population', y = 'Annual CO2 emissions')\n",
        "x = np.array(df9['Population']).reshape(-1,1)\n",
        "y = df9['Annual CO2 emissions']\n",
        "\n",
        "linear_regressor = LinearRegression()  \n",
        "linear_regressor.fit(x, y)  # perform linear regression\n",
        "Y_pred = linear_regressor.predict(x)  # make predictions\n",
        "\n",
        "ax = df9.plot(kind='scatter', x = 'Population', y = 'Annual CO2 emissions')\n",
        "plt.plot(x, Y_pred, color = 'red')\n",
        "\n",
        "plt.title('World population vs. Annual CO2 emissions')\n",
        "plt.xlabel('Population growth')\n",
        "#plt.ylabel('')\n",
        "\n",
        "red_path = mpatches.Patch(color='red', label= 'Linear Regression')\n",
        "plt.legend(loc='best', handles=[red_path])\n",
        "\n",
        "\n",
        "#plt.grid()\n",
        "plt.show()"
      ],
      "metadata": {
        "colab": {
          "base_uri": "https://localhost:8080/",
          "height": 295
        },
        "id": "wGEG8d6QJsBC",
        "outputId": "9789c05a-b97d-45de-815e-9206d6c99935"
      },
      "execution_count": null,
      "outputs": [
        {
          "output_type": "display_data",
          "data": {
            "text/plain": [
              "<Figure size 432x288 with 1 Axes>"
            ],
            "image/png": "[encoded data removed]"
          },
          "metadata": {
            "needs_background": "light"
          }
        }
      ]
    },
    {
      "cell_type": "code",
      "source": [
        "# Population Plot df7\n",
        "# add reg line\n",
        "# theorie: Linear regression uses the relationship between the data-points to draw a straight line through all them.\n",
        "# This line can be used to predict future values.\n",
        "\n",
        "import seaborn as sns\n",
        "from sklearn.linear_model import LinearRegression\n",
        "import matplotlib.patches as mpatches\n",
        "\n",
        "plt.figure(figsize=(15, 10))\n",
        "#df3.plot(kind='scatter', x = 'Population', y = 'Annual CO2 emissions')\n",
        "x = np.array(df7['Population']).reshape(-1,1)\n",
        "y = df7['Annual CO2 emissions']\n",
        "\n",
        "linear_regressor = LinearRegression()  \n",
        "linear_regressor.fit(x, y)  # perform linear regression\n",
        "Y_pred = linear_regressor.predict(x)  # make predictions\n",
        "\n",
        "ax = df7.plot(kind='scatter', x = 'Population', y = 'Annual CO2 emissions')\n",
        "plt.plot(x, Y_pred, color = 'red')\n",
        "\n",
        "plt.title('World population vs. Annual CO2 emissions')\n",
        "plt.xlabel('Population Growth')\n",
        "#plt.ylabel('')\n",
        "\n",
        "red_path = mpatches.Patch(color='red', label= 'Linear Regression')\n",
        "plt.legend(loc='best', handles=[red_path])\n",
        "\n",
        "\n",
        "#plt.grid()\n",
        "plt.show()"
      ],
      "metadata": {
        "colab": {
          "base_uri": "https://localhost:8080/",
          "height": 312
        },
        "id": "GqKVchDMtG9S",
        "outputId": "800ac80d-5a2c-4a32-c2c5-ea212071a9d2"
      },
      "execution_count": null,
      "outputs": [
        {
          "output_type": "display_data",
          "data": {
            "text/plain": [
              "<Figure size 1080x720 with 0 Axes>"
            ]
          },
          "metadata": {}
        },
        {
          "output_type": "display_data",
          "data": {
            "text/plain": [
              "<Figure size 432x288 with 1 Axes>"
            ],
            "image/png": "[encoded data removed]"
          },
          "metadata": {
            "needs_background": "light"
          }
        }
      ]
    },
    {
      "cell_type": "code",
      "source": [
        "# df maken die inzoomt op cars per capita\n",
        "# ...maar bezit van auto's is natuurlijk direct gevolg van populatiegroei, dus niet relevant!\n",
        "# niet verder uitgewerkt!!\n",
        "\n",
        "#import df\n",
        "df_cars = pd.read_csv('/content/road-vehicles-per-1000-inhabitants-vs-gdp-per-capita.csv')\n",
        "\n",
        "#explore df\n",
        "#df_cars.info()\n",
        "df_cars.sample(10)\n",
        "\n",
        "df_cars1 = df_cars['2015'] > 1965"
      ],
      "metadata": {
        "id": "Hi2lrogj1axg"
      },
      "execution_count": null,
      "outputs": []
    },
    {
      "cell_type": "code",
      "source": [
        "# Conclusion: The biggest predictor of a large CO2 outpout is the growth of the world population"
      ],
      "metadata": {
        "id": "xZbRGQtgdXTo"
      },
      "execution_count": null,
      "outputs": []
    }
  ]
}